{
 "cells": [
  {
   "cell_type": "markdown",
   "metadata": {},
   "source": [
    "# Project 3: Natural Language Processing of Subreddit Posts\n",
    "------------------------------------------------------------\n",
    "\n",
    "Project notebook organisation:\n",
    "1. [Webscraping and Data Acquisition]()\n",
    "2. [Exploratory Data Analysis and Preprocessing]()\n",
    "3. **Model Tuning and Insights**(current notebook)"
   ]
  },
  {
   "cell_type": "markdown",
   "metadata": {},
   "source": [
    "###  Contents:\n",
    "  1. [Modeling](#Modeling)\n",
    "  2. [Results & Analysis](#Results-&-Analysis)\n",
    "  3. [Conclusion](#Conclusion)\n",
    "  4. [Recommendations](#Recommendations)"
   ]
  },
  {
   "cell_type": "code",
   "execution_count": 1,
   "metadata": {},
   "outputs": [],
   "source": [
    "# Importing packages\n",
    "import pandas as pd\n",
    "import numpy as np\n",
    "import matplotlib.pyplot as plt\n",
    "import seaborn as sns\n",
    "import string\n",
    "\n",
    "from sklearn.feature_extraction.text import CountVectorizer, TfidfVectorizer \n",
    "from sklearn.pipeline import Pipeline\n",
    "from sklearn.naive_bayes import MultinomialNB\n",
    "from sklearn.model_selection import train_test_split, GridSearchCV\n",
    "from sklearn.linear_model import LogisticRegressionCV \n",
    "from sklearn.metrics import confusion_matrix, plot_confusion_matrix\n",
    "\n",
    "import warnings\n",
    "warnings.filterwarnings('ignore')\n",
    "import re\n",
    "%config InlineBackend.figure_format = 'retina'\n",
    "\n",
    "# Enables Pandas to display all the columns and rows\n",
    "pd.set_option('display.max_columns', None)\n",
    "pd.set_option('display.max_rows', None)\n",
    "\n",
    "# Enables Pandas to display long strings properly\n",
    "pd.options.display.max_colwidth = 100"
   ]
  },
  {
   "cell_type": "markdown",
   "metadata": {},
   "source": [
    "# Modeling"
   ]
  },
  {
   "cell_type": "code",
   "execution_count": 2,
   "metadata": {},
   "outputs": [],
   "source": [
    "df_cleaned = pd.read_csv('../data/df_model.csv')\n",
    "# X and y are both Series\n",
    "X = df_cleaned['tok_lemma_all_text']\n",
    "y = df_cleaned['subreddit']\n",
    "\n",
    "X_train, X_test, y_train, y_test = train_test_split(X, y,\n",
    "                                                  random_state=42,\n",
    "                                                  stratify=y)"
   ]
  },
  {
   "cell_type": "markdown",
   "metadata": {},
   "source": [
    "\n",
    "Several models and confusion matrices were made based on different types of vectorizers and classifiers and obtain several metrics:\n",
    "\n",
    "Vectorizers:\n",
    "\n",
    "1. CountVectorizer (CVEC)\n",
    "2. Term Frequency–Inverse Document Frequency Vectorizer (TFIDF)\n",
    "\n",
    "Models/Classifiers:\n",
    "\n",
    "1. Baseline Model\n",
    "2. Multinomial Naive Bayes (NB)\n",
    "3. Logistic Regression\n",
    "\n",
    "Metrics:\n",
    "\n",
    "1. Training/Testing Score\n",
    "2. Accuracy\n",
    "3. Misclassification\n",
    "4. Sensitivity\n",
    "5. Specificity\n",
    "6. Precision\n",
    "7. F1 Score"
   ]
  },
  {
   "cell_type": "markdown",
   "metadata": {},
   "source": [
    "### Basic Model\n",
    "The higher probability of 'subreddit' as the baseline. Obtaining the probability distribution, given a random text, choosing 'Investing' as the subreddit gives us a 49.7% chance of being correct. Hence, our baseline model is 49.7%."
   ]
  },
  {
   "cell_type": "code",
   "execution_count": 3,
   "metadata": {},
   "outputs": [
    {
     "data": {
      "text/plain": [
       "CryptoCurrency    0.502933\n",
       "investing         0.497067\n",
       "Name: subreddit, dtype: float64"
      ]
     },
     "execution_count": 3,
     "metadata": {},
     "output_type": "execute_result"
    }
   ],
   "source": [
    "df_cleaned['subreddit'].value_counts(normalize=True)"
   ]
  },
  {
   "cell_type": "code",
   "execution_count": 4,
   "metadata": {},
   "outputs": [],
   "source": [
    "# creating function to fit models, pipeline, hyperparameters and plotting.\n",
    "def model(model_type):\n",
    "    model_type.fit(X_train, y_train)\n",
    "    model_preds = model_type.predict(X_test)\n",
    "    tn, fp, fn, tp = confusion_matrix(y_test, model_preds).ravel()\n",
    "    print(f'Best Score:                                {model_type.best_score_}')\n",
    "    print(f'Train Score:                               {model_type.score(X_train, y_train)}')\n",
    "    print(f'Accuracy (Test Score):                     {((tp+tn)/(tn+fp+fn+tp))}')\n",
    "    print(f'Misclassification:                         {(1-(tp+tn)/(tn+fp+fn+tp))}')\n",
    "    print(f'Sensitivity / True Positive Rate / Recall: {((tp)/(tp+fn))}')\n",
    "    print(f'Specificity / True Negative Rate:          {(tn/(tn+fp))}')\n",
    "    print(f'Precision / Positive Predictive Value:     {(tp/(tp+fp))}')\n",
    "    print(f'F1 Score:                                  {(2*(((tp)/(tp+fn))*(tp/(tp+fp))))/(((tp)/(tp+fn))+(tp/(tp+fp)))}')\n",
    "    print(f'Best Parameters:                           {model_type.best_params_}')\n",
    "    plot_confusion_matrix(model_type, \n",
    "                          X_test, y_test, \n",
    "                          cmap='Blues', \n",
    "                          values_format='d',\n",
    "                          display_labels=['r/investing', 'r/CryptoCurrency']\n",
    "                         );"
   ]
  },
  {
   "cell_type": "markdown",
   "metadata": {},
   "source": [
    "## MultiNomial Naive Bayes\n",
    "In this section, we create two Multinomial Naive Bayes models by using different vectorizers: CountVectorizer and TFIDF Vectorizer."
   ]
  },
  {
   "cell_type": "markdown",
   "metadata": {},
   "source": [
    "CountVectorizer Naive Bayes\n",
    "\n",
    " Pipeline and GridSearchCV were used to perform a CVEC Multinomial Naive Bayes model based on a range of parameters. Below, the range of parameters for respective features and the best parameter used were listed, as well as the Accuracy and other metrics results:"
   ]
  },
  {
   "cell_type": "code",
   "execution_count": 5,
   "metadata": {},
   "outputs": [
    {
     "name": "stdout",
     "output_type": "stream",
     "text": [
      "Best Score:                                0.9243788720700007\n",
      "Train Score:                               0.953715775749674\n",
      "Accuracy (Test Score):                     0.91015625\n",
      "Misclassification:                         0.08984375\n",
      "Sensitivity / True Positive Rate / Recall: 0.8661417322834646\n",
      "Specificity / True Negative Rate:          0.9534883720930233\n",
      "Precision / Positive Predictive Value:     0.9482758620689655\n",
      "F1 Score:                                  0.9053497942386831\n",
      "Best Parameters:                           {'cvec__max_df': 0.9, 'cvec__max_features': 5000, 'cvec__min_df': 4, 'cvec__ngram_range': (1, 3)}\n"
     ]
    },
    {
     "data": {
      "image/png": "[encoded data removed]",
      "text/plain": [
       "<Figure size 432x288 with 2 Axes>"
      ]
     },
     "metadata": {
      "needs_background": "light"
     },
     "output_type": "display_data"
    }
   ],
   "source": [
    "# Instantiate CountVectorizer() and MultinomialNB()\n",
    "cvec = CountVectorizer()\n",
    "nb = MultinomialNB()\n",
    "\n",
    "pipe_cvec_nb = Pipeline([\n",
    "    ('cvec', cvec),\n",
    "    ('nb', nb)])\n",
    "\n",
    "pipe_cvec_nb_params = {\n",
    "    'cvec__max_features': [2_000, 3_000, 4_000, 5_000],\n",
    "    'cvec__min_df': [2, 3, 4],\n",
    "    'cvec__max_df': [.9, .95],\n",
    "    'cvec__ngram_range': [(1,1), (1,2), (1,3)]\n",
    "}\n",
    "\n",
    "# Instantiate GridSearchCV.\n",
    "gs_cvec_nb = GridSearchCV(\n",
    "    estimator=pipe_cvec_nb, \n",
    "    param_grid=pipe_cvec_nb_params, \n",
    "    cv=5)\n",
    "\n",
    "model(gs_cvec_nb)\n",
    "plt.title('CVEC Naive Bayes');"
   ]
  },
  {
   "cell_type": "markdown",
   "metadata": {},
   "source": [
    "### TF-IDF Vectorizer Naive Bayes\n",
    "\n",
    "Pipeline and GridSearchCV were used to perform a TVEC Multinomial Naive Bayes model based on a range of parameters. Below, the range of parameters for respective features and the best parameter used were listed, as well as the Accuracy and other metrics results:"
   ]
  },
  {
   "cell_type": "code",
   "execution_count": 6,
   "metadata": {},
   "outputs": [
    {
     "name": "stdout",
     "output_type": "stream",
     "text": [
      "Best Score:                                0.9269911221817717\n",
      "Train Score:                               0.9511082138200783\n",
      "Accuracy (Test Score):                     0.908203125\n",
      "Misclassification:                         0.091796875\n",
      "Sensitivity / True Positive Rate / Recall: 0.8818897637795275\n",
      "Specificity / True Negative Rate:          0.9341085271317829\n",
      "Precision / Positive Predictive Value:     0.9294605809128631\n",
      "F1 Score:                                  0.905050505050505\n",
      "Best Parameters:                           {'tvec__max_features': 2000, 'tvec__ngram_range': (1, 3), 'tvec__stop_words': 'english'}\n"
     ]
    },
    {
     "data": {
      "image/png": "[encoded data removed]",
      "text/plain": [
       "<Figure size 432x288 with 2 Axes>"
      ]
     },
     "metadata": {
      "needs_background": "light"
     },
     "output_type": "display_data"
    }
   ],
   "source": [
    "tvec = TfidfVectorizer()\n",
    "nb = MultinomialNB()\n",
    "\n",
    "# Let's set a pipeline up with two stages:\n",
    "# 1. tf-idf vectorizer (transformer)\n",
    "# 2. Multinomial Naive Bayes (estimator)\n",
    "\n",
    "pipe_tvec_nb = Pipeline([\n",
    "    ('tvec', tvec),\n",
    "    ('nb', nb)\n",
    "])\n",
    "\n",
    "pipe_tvec_nb_params = {\n",
    "    'tvec__max_features': [2_000, 3_000, 4_000, 5_000],\n",
    "    'tvec__stop_words': [None, 'english'],\n",
    "    'tvec__ngram_range': [(1,1), (1,2), (1,3)]\n",
    "}\n",
    "\n",
    "# Instantiate GridSearchCV.\n",
    "gs_tvec_nb = GridSearchCV(\n",
    "    estimator=pipe_tvec_nb,\n",
    "    param_grid=pipe_tvec_nb_params,\n",
    "    cv=5)\n",
    "\n",
    "model(gs_tvec_nb)\n",
    "plt.title('TF-IDF Naive Bayes');"
   ]
  },
  {
   "cell_type": "markdown",
   "metadata": {},
   "source": [
    "Comparing Naive Bayes Results\n",
    "\n",
    "The best parameters found:\n",
    "\n",
    "| Parameter  |  Best CVEC |  Best TVEC |\n",
    "|---|---|---|\n",
    "|Vectorizer Max Features |5000|  2000 |\n",
    "|Vectorizer Ngram Range  |(1, 3)|(1, 3)|\n"
   ]
  },
  {
   "cell_type": "markdown",
   "metadata": {},
   "source": [
    "Observations:\n",
    "\n",
    "Both TVEC and Cvec model had used trigrams in addition to the unigrams and bigrams used in CVEC.\n",
    "\n",
    "More features were used in the Cvec model, possibly due to the inclusion of trigrams.\n",
    "\n",
    "Although more features were used in CVEC model, no negative impact on overfitting can be seen. \n",
    "Instead, using more features in combination with a trigram had provided greater predictive power.\n"
   ]
  },
  {
   "cell_type": "markdown",
   "metadata": {},
   "source": [
    "### Observations from both naive bayes model\n",
    "\n",
    "Overall, The naive bayes model gives us a favorable results on our 4 main metrics: Accuracy, Sensitivity, Specificity and Precision.\n",
    "Based on results, a TF-IDF vectorizer had scored better on 3 out of 4 of our metrics.\n",
    "\n",
    "Thus, TF-IDF vectorized naive bayes model performs better than a Count Vectorized naive bayes model.\n",
    "\n",
    "Conclusion: Better Vectorizer: TVEC"
   ]
  },
  {
   "cell_type": "markdown",
   "metadata": {},
   "source": [
    "## Logistic Regression\n",
    "In this section, we create a logistic regression model using CVEC and TF-IDF Vectorizer and tabulate our findings. We first create a function to call on our models based on the format 'gs(vectorizer)\\(model name)'"
   ]
  },
  {
   "cell_type": "markdown",
   "metadata": {},
   "source": [
    "### CountVectorizer Logistic Regression\n",
    "Pipeline and GridSearchCV were used to perform a CVEC logistic regression model based on a range of parameters. The range of parameters for respective features and the best parameter used were listed, as well as the Accuracy and other metrics results:"
   ]
  },
  {
   "cell_type": "code",
   "execution_count": 7,
   "metadata": {},
   "outputs": [
    {
     "name": "stdout",
     "output_type": "stream",
     "text": [
      "Best Score:                                0.9250196930020651\n",
      "Train Score:                               0.9315514993481095\n",
      "Accuracy (Test Score):                     0.908203125\n",
      "Misclassification:                         0.091796875\n",
      "Sensitivity / True Positive Rate / Recall: 0.905511811023622\n",
      "Specificity / True Negative Rate:          0.9108527131782945\n",
      "Precision / Positive Predictive Value:     0.9090909090909091\n",
      "F1 Score:                                  0.9072978303747535\n",
      "Best Parameters:                           {'cvec__max_features': 5000, 'cvec__ngram_range': (1, 1), 'logit__cv': 10, 'logit__n_jobs': -1, 'logit__random_state': 42}\n"
     ]
    },
    {
     "data": {
      "image/png": "[encoded data removed]",
      "text/plain": [
       "<Figure size 432x288 with 2 Axes>"
      ]
     },
     "metadata": {
      "needs_background": "light"
     },
     "output_type": "display_data"
    }
   ],
   "source": [
    "cvec = CountVectorizer()\n",
    "logit = LogisticRegressionCV()\n",
    "\n",
    "pipe_cvec_logit = Pipeline([\n",
    "    ('cvec', cvec),\n",
    "    ('logit', logit)])\n",
    "\n",
    "pipe_cvec_logit_params = {\n",
    "    'cvec__max_features': [1_000, 2_000, 3_000,\n",
    "                            4_000, 5_000],\n",
    "    'cvec__ngram_range': [(1,1), (1,2), (1,3), (1,4)],\n",
    "    'logit__n_jobs': [-1],\n",
    "    'logit__random_state': [42],\n",
    "    'logit__cv': [5, 10, 15, 20, 25]}\n",
    "\n",
    "gs_cvec_logit = GridSearchCV(\n",
    "    estimator=pipe_cvec_logit,\n",
    "    param_grid=pipe_cvec_logit_params,\n",
    "    cv=5)\n",
    "\n",
    "model(gs_cvec_logit)\n",
    "plt.title('CVEC Logistic Regression');"
   ]
  },
  {
   "cell_type": "markdown",
   "metadata": {},
   "source": [
    "### TF-IDF Vectorizer Logistic Regression\n",
    "Pipeline and GridSearchCV were used to perform a TVEC logistic regression model based on a range of parameters. The range of parameters for respective features and the best parameter used were listed, as well as the Accuracy and other metrics results:"
   ]
  },
  {
   "cell_type": "code",
   "execution_count": 8,
   "metadata": {},
   "outputs": [
    {
     "name": "stdout",
     "output_type": "stream",
     "text": [
      "Best Score:                                0.9380639117753506\n",
      "Train Score:                               0.9582790091264668\n",
      "Accuracy (Test Score):                     0.92578125\n",
      "Misclassification:                         0.07421875\n",
      "Sensitivity / True Positive Rate / Recall: 0.9173228346456693\n",
      "Specificity / True Negative Rate:          0.9341085271317829\n",
      "Precision / Positive Predictive Value:     0.932\n",
      "F1 Score:                                  0.9246031746031745\n",
      "Best Parameters:                           {'logit__cv': 5, 'logit__n_jobs': -1, 'logit__random_state': 42, 'tvec__max_features': 4000, 'tvec__ngram_range': (1, 1)}\n"
     ]
    },
    {
     "data": {
      "image/png": "[encoded data removed]",
      "text/plain": [
       "<Figure size 432x288 with 2 Axes>"
      ]
     },
     "metadata": {
      "needs_background": "light"
     },
     "output_type": "display_data"
    }
   ],
   "source": [
    "tvec = TfidfVectorizer()\n",
    "logit = LogisticRegressionCV()\n",
    "\n",
    "pipe_tvec_logit = Pipeline([\n",
    "    ('tvec', tvec),\n",
    "    ('logit', logit)])\n",
    "\n",
    "pipe_tvec_logit_params = {\n",
    "    'tvec__max_features': [\t1000, 2000, 3000,\n",
    "                            4000, 5000],\n",
    "    'tvec__ngram_range': [(1, 1), (1, 2), (1, 3),\n",
    "                        (1, 4), (1, 5), (1, 6)],\n",
    "    'logit__n_jobs': [-1],\n",
    "    'logit__random_state': [42],\n",
    "    'logit__cv': [5, 10, 15, 20, 25]\n",
    "}\n",
    "\n",
    "gs_tvec_logit = GridSearchCV(\n",
    "    estimator=pipe_tvec_logit,\n",
    "    param_grid=pipe_tvec_logit_params,\n",
    "    cv=5)\n",
    "\n",
    "model(gs_tvec_logit)\n",
    "plt.title('TVEC Logistic Regression');"
   ]
  },
  {
   "cell_type": "markdown",
   "metadata": {},
   "source": [
    "# Results and Analysis\n"
   ]
  },
  {
   "cell_type": "markdown",
   "metadata": {},
   "source": [
    "\n",
    "Eliminate CVEC Models\n",
    "\n",
    "Based on results in the earlier comparisons between CVEC and TVEC models, the TVEC model is more appropriate for use because the penalization of common words in through TF-IDF provides a greater weight on the focus words within the dataset. The focus words in turn provide greater predictive power than compared to simply counting word frequency as per CVEC. This leaves us with CVEC models.\n",
    "\n",
    "\n",
    "Conclusions\n",
    "\n",
    "The TVEC logistic regression will be selected predictive models to presented to due to the following factors:\n",
    "\n",
    "Low overfitting to training data. Therefore, these models should perform better for blind data, such as when collecting new posts.\n",
    "Highest specificity. As such, the selected model with the highest rates of specificity to ensure that we are not incorrectly spending funds."
   ]
  },
  {
   "cell_type": "markdown",
   "metadata": {},
   "source": [
    "# Conclusion\n",
    "\n",
    "I conclude by stating our findings, and providing a recommendation based on my company's requirement.\n",
    "\n",
    "In comparing parameters, I find that a higher parameter number does not automatically translate to a better result. This is due to the diminishing returns in predictive power of the parameters. Also, using an ngram range is better than using singular words only. This is because focus words often come in a phrase, similar to why supermarkets place soft drinks next to pizzas, or why casket-sellers also sell flowers. In all three cases, things which complement one another are often used consecutively.\n",
    "\n",
    "In comparing models, a TF-IDF vectorized model provides a better predictive value than a Count Vectorized model. This is because while some stop words have been removed, there are still many stop words prevalent in the dataset. TF-IDF balances out the frequency of words used by penalizing common words which are not explicitly found in our stop words. This provides a higher weightage for non-stop words. Among the non-stop words, some of these are focus words used in the different subreddits due to their different focus.\n",
    "\n",
    "In comparing our two best models, logistic regression model is preferred as compared to our naive bayes model. Two reasons for this: maximization of focus metric, and best overall balance in our 4 metrics. Our focus metric, specificity, performed best in a logistic regression. The highest specificity is desired in the models. In addition, the logistic regression scores over 90% on 3 out of 4 metrics, while specificity scores a hair below 90%, at 89.9%. Our naive bayes performed slightly poorly of 88%+ on sensitivity, but impressively for specificity and precision (93.4% and 93.2% respectively). As such, while an equally weighted result points to using a naive bayes model (93.8% vs 92.7%), I believe that a logistic regression would be more reliable overall."
   ]
  },
  {
   "cell_type": "markdown",
   "metadata": {},
   "source": [
    "# Recommendation\n",
    "I recommend using our logistic regression model for reasons provided above. To improve our model, I suggest a few things that I can do in the future:\n",
    "\n",
    "1. Expand data collection from other sources (not just Reddit).\n",
    "2. Identifying more stop words to reduce noise in our data.\n",
    "3. Creating a dictionary to process words more appropriately.\n",
    "4. Obtain greater computing power or more time to process a greater number of hyperparameters."
   ]
  }
 ],
 "metadata": {
  "interpreter": {
   "hash": "42588fd11209419b7c81abe23e31a1d2101f60811b02170c268e57ebb57d5d9a"
  },
  "kernelspec": {
   "display_name": "Python 3.8.8 64-bit ('base': conda)",
   "name": "python3"
  },
  "language_info": {
   "codemirror_mode": {
    "name": "ipython",
    "version": 3
   },
   "file_extension": ".py",
   "mimetype": "text/x-python",
   "name": "python",
   "nbconvert_exporter": "python",
   "pygments_lexer": "ipython3",
   "version": "3.8.8"
  },
  "orig_nbformat": 4
 },
 "nbformat": 4,
 "nbformat_minor": 2
}
